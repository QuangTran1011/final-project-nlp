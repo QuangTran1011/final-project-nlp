{
 "cells": [
  {
   "cell_type": "code",
   "execution_count": 3,
   "metadata": {
    "execution": {
     "iopub.execute_input": "2024-12-03T08:35:48.316820Z",
     "iopub.status.busy": "2024-12-03T08:35:48.316012Z",
     "iopub.status.idle": "2024-12-03T08:35:48.321482Z",
     "shell.execute_reply": "2024-12-03T08:35:48.320296Z",
     "shell.execute_reply.started": "2024-12-03T08:35:48.316785Z"
    },
    "trusted": true
   },
   "outputs": [],
   "source": [
    "import tensorflow as tf\n",
    "from transformers import BertTokenizer\n",
    "import sys\n",
    "sys.path.append('/kaggle/input/bertmodel/bert_model')\n",
    "from bert import minBert\n",
    "from bert import EncoderLayer, SelfAttention, FeedForward, BaseAttention\n",
    "from positional_embedding import PositionalEmbedding\n",
    "sys.path.append('/kaggle/input/bertmodel/contrastive_learning')\n",
    "from contrastive_learning import SupervisedContrastiveModel"
   ]
  },
  {
   "cell_type": "code",
   "execution_count": 4,
   "metadata": {
    "execution": {
     "iopub.execute_input": "2024-12-03T08:35:50.386480Z",
     "iopub.status.busy": "2024-12-03T08:35:50.385786Z",
     "iopub.status.idle": "2024-12-03T08:35:53.034256Z",
     "shell.execute_reply": "2024-12-03T08:35:53.033541Z",
     "shell.execute_reply.started": "2024-12-03T08:35:50.386448Z"
    },
    "trusted": true
   },
   "outputs": [
    {
     "data": {
      "application/vnd.jupyter.widget-view+json": {
       "model_id": "dfbe9700f099467d87ce70ce3025a1c3",
       "version_major": 2,
       "version_minor": 0
      },
      "text/plain": [
       "tokenizer_config.json:   0%|          | 0.00/48.0 [00:00<?, ?B/s]"
      ]
     },
     "metadata": {},
     "output_type": "display_data"
    },
    {
     "data": {
      "application/vnd.jupyter.widget-view+json": {
       "model_id": "b5c1dd4292954be0b3a1b90cc1d060ac",
       "version_major": 2,
       "version_minor": 0
      },
      "text/plain": [
       "vocab.txt:   0%|          | 0.00/232k [00:00<?, ?B/s]"
      ]
     },
     "metadata": {},
     "output_type": "display_data"
    },
    {
     "data": {
      "application/vnd.jupyter.widget-view+json": {
       "model_id": "f95634e87aae44068427c5dd12e43dbf",
       "version_major": 2,
       "version_minor": 0
      },
      "text/plain": [
       "tokenizer.json:   0%|          | 0.00/466k [00:00<?, ?B/s]"
      ]
     },
     "metadata": {},
     "output_type": "display_data"
    },
    {
     "data": {
      "application/vnd.jupyter.widget-view+json": {
       "model_id": "c811d02d7ef8476b830347dc3e10fd9d",
       "version_major": 2,
       "version_minor": 0
      },
      "text/plain": [
       "config.json:   0%|          | 0.00/570 [00:00<?, ?B/s]"
      ]
     },
     "metadata": {},
     "output_type": "display_data"
    }
   ],
   "source": [
    "tokenizer = BertTokenizer.from_pretrained(\"google-bert/bert-base-uncased\")"
   ]
  },
  {
   "cell_type": "code",
   "execution_count": 6,
   "metadata": {
    "execution": {
     "iopub.execute_input": "2024-12-03T08:36:06.581921Z",
     "iopub.status.busy": "2024-12-03T08:36:06.581574Z",
     "iopub.status.idle": "2024-12-03T08:36:11.036102Z",
     "shell.execute_reply": "2024-12-03T08:36:11.035400Z",
     "shell.execute_reply.started": "2024-12-03T08:36:06.581892Z"
    },
    "trusted": true
   },
   "outputs": [
    {
     "name": "stderr",
     "output_type": "stream",
     "text": [
      "/opt/conda/lib/python3.10/site-packages/keras/src/layers/layer.py:877: UserWarning: Layer 'query' (of type EinsumDense) was passed an input with a mask attached to it. However, this layer does not support masking and will therefore destroy the mask information. Downstream layers will not see the mask.\n",
      "  warnings.warn(\n",
      "/opt/conda/lib/python3.10/site-packages/keras/src/layers/layer.py:877: UserWarning: Layer 'key' (of type EinsumDense) was passed an input with a mask attached to it. However, this layer does not support masking and will therefore destroy the mask information. Downstream layers will not see the mask.\n",
      "  warnings.warn(\n",
      "/opt/conda/lib/python3.10/site-packages/keras/src/layers/layer.py:877: UserWarning: Layer 'value' (of type EinsumDense) was passed an input with a mask attached to it. However, this layer does not support masking and will therefore destroy the mask information. Downstream layers will not see the mask.\n",
      "  warnings.warn(\n",
      "/opt/conda/lib/python3.10/site-packages/keras/src/layers/layer.py:877: UserWarning: Layer 'self_attention' (of type SelfAttention) was passed an input with a mask attached to it. However, this layer does not support masking and will therefore destroy the mask information. Downstream layers will not see the mask.\n",
      "  warnings.warn(\n",
      "/opt/conda/lib/python3.10/site-packages/keras/src/layers/layer.py:877: UserWarning: Layer 'encoder_layer' (of type EncoderLayer) was passed an input with a mask attached to it. However, this layer does not support masking and will therefore destroy the mask information. Downstream layers will not see the mask.\n",
      "  warnings.warn(\n"
     ]
    }
   ],
   "source": [
    "min_bert_layer = tf.keras.models.load_model(\n",
    "    '/kaggle/input/bertmodel/min_bert_layer_after_training_qqp_triplet_v5.keras',\n",
    "    custom_objects={\n",
    "        \"minBert\": minBert,\n",
    "        \"EncoderLayer\": EncoderLayer,\n",
    "        \"SelfAttention\": SelfAttention,\n",
    "        \"FeedForward\": FeedForward,\n",
    "        \"BaseAttention\" : BaseAttention,\n",
    "        \"PositionalEmbedding\" : PositionalEmbedding\n",
    "    }\n",
    ")"
   ]
  },
  {
   "cell_type": "code",
   "execution_count": 8,
   "metadata": {
    "execution": {
     "iopub.execute_input": "2024-12-03T08:36:24.918642Z",
     "iopub.status.busy": "2024-12-03T08:36:24.917915Z",
     "iopub.status.idle": "2024-12-03T08:36:34.636017Z",
     "shell.execute_reply": "2024-12-03T08:36:34.635108Z",
     "shell.execute_reply.started": "2024-12-03T08:36:24.918608Z"
    },
    "trusted": true
   },
   "outputs": [
    {
     "name": "stderr",
     "output_type": "stream",
     "text": [
      "/opt/conda/lib/python3.10/pty.py:89: RuntimeWarning: os.fork() was called. os.fork() is incompatible with multithreaded code, and JAX is multithreaded, so this will likely lead to a deadlock.\n",
      "  pid, fd = os.forkpty()\n"
     ]
    },
    {
     "name": "stdout",
     "output_type": "stream",
     "text": [
      "Collecting sentence_transformers\n",
      "  Downloading sentence_transformers-3.3.1-py3-none-any.whl.metadata (10 kB)\n",
      "Requirement already satisfied: transformers<5.0.0,>=4.41.0 in /opt/conda/lib/python3.10/site-packages (from sentence_transformers) (4.46.3)\n",
      "Requirement already satisfied: tqdm in /opt/conda/lib/python3.10/site-packages (from sentence_transformers) (4.66.4)\n",
      "Requirement already satisfied: torch>=1.11.0 in /opt/conda/lib/python3.10/site-packages (from sentence_transformers) (2.4.0)\n",
      "Requirement already satisfied: scikit-learn in /opt/conda/lib/python3.10/site-packages (from sentence_transformers) (1.2.2)\n",
      "Requirement already satisfied: scipy in /opt/conda/lib/python3.10/site-packages (from sentence_transformers) (1.14.1)\n",
      "Requirement already satisfied: huggingface-hub>=0.20.0 in /opt/conda/lib/python3.10/site-packages (from sentence_transformers) (0.26.2)\n",
      "Requirement already satisfied: Pillow in /opt/conda/lib/python3.10/site-packages (from sentence_transformers) (10.3.0)\n",
      "Requirement already satisfied: filelock in /opt/conda/lib/python3.10/site-packages (from huggingface-hub>=0.20.0->sentence_transformers) (3.15.1)\n",
      "Requirement already satisfied: fsspec>=2023.5.0 in /opt/conda/lib/python3.10/site-packages (from huggingface-hub>=0.20.0->sentence_transformers) (2024.6.0)\n",
      "Requirement already satisfied: packaging>=20.9 in /opt/conda/lib/python3.10/site-packages (from huggingface-hub>=0.20.0->sentence_transformers) (21.3)\n",
      "Requirement already satisfied: pyyaml>=5.1 in /opt/conda/lib/python3.10/site-packages (from huggingface-hub>=0.20.0->sentence_transformers) (6.0.2)\n",
      "Requirement already satisfied: requests in /opt/conda/lib/python3.10/site-packages (from huggingface-hub>=0.20.0->sentence_transformers) (2.32.3)\n",
      "Requirement already satisfied: typing-extensions>=3.7.4.3 in /opt/conda/lib/python3.10/site-packages (from huggingface-hub>=0.20.0->sentence_transformers) (4.12.2)\n",
      "Requirement already satisfied: sympy in /opt/conda/lib/python3.10/site-packages (from torch>=1.11.0->sentence_transformers) (1.13.3)\n",
      "Requirement already satisfied: networkx in /opt/conda/lib/python3.10/site-packages (from torch>=1.11.0->sentence_transformers) (3.3)\n",
      "Requirement already satisfied: jinja2 in /opt/conda/lib/python3.10/site-packages (from torch>=1.11.0->sentence_transformers) (3.1.4)\n",
      "Requirement already satisfied: numpy>=1.17 in /opt/conda/lib/python3.10/site-packages (from transformers<5.0.0,>=4.41.0->sentence_transformers) (1.26.4)\n",
      "Requirement already satisfied: regex!=2019.12.17 in /opt/conda/lib/python3.10/site-packages (from transformers<5.0.0,>=4.41.0->sentence_transformers) (2024.5.15)\n",
      "Requirement already satisfied: tokenizers<0.21,>=0.20 in /opt/conda/lib/python3.10/site-packages (from transformers<5.0.0,>=4.41.0->sentence_transformers) (0.20.3)\n",
      "Requirement already satisfied: safetensors>=0.4.1 in /opt/conda/lib/python3.10/site-packages (from transformers<5.0.0,>=4.41.0->sentence_transformers) (0.4.5)\n",
      "Requirement already satisfied: joblib>=1.1.1 in /opt/conda/lib/python3.10/site-packages (from scikit-learn->sentence_transformers) (1.4.2)\n",
      "Requirement already satisfied: threadpoolctl>=2.0.0 in /opt/conda/lib/python3.10/site-packages (from scikit-learn->sentence_transformers) (3.5.0)\n",
      "Requirement already satisfied: pyparsing!=3.0.5,>=2.0.2 in /opt/conda/lib/python3.10/site-packages (from packaging>=20.9->huggingface-hub>=0.20.0->sentence_transformers) (3.1.2)\n",
      "Requirement already satisfied: MarkupSafe>=2.0 in /opt/conda/lib/python3.10/site-packages (from jinja2->torch>=1.11.0->sentence_transformers) (2.1.5)\n",
      "Requirement already satisfied: charset-normalizer<4,>=2 in /opt/conda/lib/python3.10/site-packages (from requests->huggingface-hub>=0.20.0->sentence_transformers) (3.3.2)\n",
      "Requirement already satisfied: idna<4,>=2.5 in /opt/conda/lib/python3.10/site-packages (from requests->huggingface-hub>=0.20.0->sentence_transformers) (3.7)\n",
      "Requirement already satisfied: urllib3<3,>=1.21.1 in /opt/conda/lib/python3.10/site-packages (from requests->huggingface-hub>=0.20.0->sentence_transformers) (1.26.18)\n",
      "Requirement already satisfied: certifi>=2017.4.17 in /opt/conda/lib/python3.10/site-packages (from requests->huggingface-hub>=0.20.0->sentence_transformers) (2024.6.2)\n",
      "Requirement already satisfied: mpmath<1.4,>=1.1.0 in /opt/conda/lib/python3.10/site-packages (from sympy->torch>=1.11.0->sentence_transformers) (1.3.0)\n",
      "Downloading sentence_transformers-3.3.1-py3-none-any.whl (268 kB)\n",
      "\u001b[2K   \u001b[90m━━━━━━━━━━━━━━━━━━━━━━━━━━━━━━━━━━━━━━━━\u001b[0m \u001b[32m268.8/268.8 kB\u001b[0m \u001b[31m5.8 MB/s\u001b[0m eta \u001b[36m0:00:00\u001b[0m00:01\u001b[0m\n",
      "\u001b[?25hInstalling collected packages: sentence_transformers\n",
      "Successfully installed sentence_transformers-3.3.1\n"
     ]
    }
   ],
   "source": [
    "!pip install sentence_transformers"
   ]
  },
  {
   "cell_type": "code",
   "execution_count": 9,
   "metadata": {
    "execution": {
     "iopub.execute_input": "2024-12-03T08:36:38.004118Z",
     "iopub.status.busy": "2024-12-03T08:36:38.003274Z",
     "iopub.status.idle": "2024-12-03T08:36:47.790547Z",
     "shell.execute_reply": "2024-12-03T08:36:47.789369Z",
     "shell.execute_reply.started": "2024-12-03T08:36:38.004079Z"
    },
    "trusted": true
   },
   "outputs": [
    {
     "data": {
      "application/vnd.jupyter.widget-view+json": {
       "model_id": "9398c098258a495a8f7fefc29be00c53",
       "version_major": 2,
       "version_minor": 0
      },
      "text/plain": [
       "modules.json:   0%|          | 0.00/349 [00:00<?, ?B/s]"
      ]
     },
     "metadata": {},
     "output_type": "display_data"
    },
    {
     "data": {
      "application/vnd.jupyter.widget-view+json": {
       "model_id": "f6fc74d8170643f8bbd7543c064bda39",
       "version_major": 2,
       "version_minor": 0
      },
      "text/plain": [
       "config_sentence_transformers.json:   0%|          | 0.00/116 [00:00<?, ?B/s]"
      ]
     },
     "metadata": {},
     "output_type": "display_data"
    },
    {
     "data": {
      "application/vnd.jupyter.widget-view+json": {
       "model_id": "677c142f0ffd4493a9b655382527749c",
       "version_major": 2,
       "version_minor": 0
      },
      "text/plain": [
       "README.md:   0%|          | 0.00/10.7k [00:00<?, ?B/s]"
      ]
     },
     "metadata": {},
     "output_type": "display_data"
    },
    {
     "data": {
      "application/vnd.jupyter.widget-view+json": {
       "model_id": "d2cf649dbfad431596ef175aeb73eb16",
       "version_major": 2,
       "version_minor": 0
      },
      "text/plain": [
       "sentence_bert_config.json:   0%|          | 0.00/53.0 [00:00<?, ?B/s]"
      ]
     },
     "metadata": {},
     "output_type": "display_data"
    },
    {
     "data": {
      "application/vnd.jupyter.widget-view+json": {
       "model_id": "c487f3d0392242da9a28a74210427241",
       "version_major": 2,
       "version_minor": 0
      },
      "text/plain": [
       "config.json:   0%|          | 0.00/612 [00:00<?, ?B/s]"
      ]
     },
     "metadata": {},
     "output_type": "display_data"
    },
    {
     "data": {
      "application/vnd.jupyter.widget-view+json": {
       "model_id": "7083f1faca03429a9a91dd0ffe99d387",
       "version_major": 2,
       "version_minor": 0
      },
      "text/plain": [
       "model.safetensors:   0%|          | 0.00/90.9M [00:00<?, ?B/s]"
      ]
     },
     "metadata": {},
     "output_type": "display_data"
    },
    {
     "data": {
      "application/vnd.jupyter.widget-view+json": {
       "model_id": "09bc0738a5804b40a23339b4808f4692",
       "version_major": 2,
       "version_minor": 0
      },
      "text/plain": [
       "tokenizer_config.json:   0%|          | 0.00/350 [00:00<?, ?B/s]"
      ]
     },
     "metadata": {},
     "output_type": "display_data"
    },
    {
     "data": {
      "application/vnd.jupyter.widget-view+json": {
       "model_id": "6fdd927e36524f879081e157f2428bd1",
       "version_major": 2,
       "version_minor": 0
      },
      "text/plain": [
       "vocab.txt:   0%|          | 0.00/232k [00:00<?, ?B/s]"
      ]
     },
     "metadata": {},
     "output_type": "display_data"
    },
    {
     "data": {
      "application/vnd.jupyter.widget-view+json": {
       "model_id": "c05686ee12124988b8881ec4a3bc26f9",
       "version_major": 2,
       "version_minor": 0
      },
      "text/plain": [
       "tokenizer.json:   0%|          | 0.00/466k [00:00<?, ?B/s]"
      ]
     },
     "metadata": {},
     "output_type": "display_data"
    },
    {
     "data": {
      "application/vnd.jupyter.widget-view+json": {
       "model_id": "1ce61186282f4748bed47e39939d8b03",
       "version_major": 2,
       "version_minor": 0
      },
      "text/plain": [
       "special_tokens_map.json:   0%|          | 0.00/112 [00:00<?, ?B/s]"
      ]
     },
     "metadata": {},
     "output_type": "display_data"
    },
    {
     "data": {
      "application/vnd.jupyter.widget-view+json": {
       "model_id": "19c60d7ec4c04e71b2294da718484c5c",
       "version_major": 2,
       "version_minor": 0
      },
      "text/plain": [
       "1_Pooling/config.json:   0%|          | 0.00/190 [00:00<?, ?B/s]"
      ]
     },
     "metadata": {},
     "output_type": "display_data"
    }
   ],
   "source": [
    "from sentence_transformers import SentenceTransformer\n",
    "model = SentenceTransformer('sentence-transformers/all-MiniLM-L6-v2')"
   ]
  },
  {
   "cell_type": "code",
   "execution_count": 10,
   "metadata": {
    "execution": {
     "iopub.execute_input": "2024-12-03T08:36:48.742392Z",
     "iopub.status.busy": "2024-12-03T08:36:48.742038Z",
     "iopub.status.idle": "2024-12-03T08:36:58.476482Z",
     "shell.execute_reply": "2024-12-03T08:36:58.475569Z",
     "shell.execute_reply.started": "2024-12-03T08:36:48.742360Z"
    },
    "trusted": true
   },
   "outputs": [
    {
     "data": {
      "application/vnd.jupyter.widget-view+json": {
       "model_id": "f99bd7204e7d414cb9d68fdc40e1f146",
       "version_major": 2,
       "version_minor": 0
      },
      "text/plain": [
       "README.md:   0%|          | 0.00/6.27k [00:00<?, ?B/s]"
      ]
     },
     "metadata": {},
     "output_type": "display_data"
    },
    {
     "data": {
      "application/vnd.jupyter.widget-view+json": {
       "model_id": "a01bf0b7b8724df0b3f75d0c1c5f4949",
       "version_major": 2,
       "version_minor": 0
      },
      "text/plain": [
       "quora_duplicate_triplets.jsonl:   0%|          | 0.00/183M [00:00<?, ?B/s]"
      ]
     },
     "metadata": {},
     "output_type": "display_data"
    },
    {
     "data": {
      "application/vnd.jupyter.widget-view+json": {
       "model_id": "838383ddd4fd45d787ded5d22c71ea67",
       "version_major": 2,
       "version_minor": 0
      },
      "text/plain": [
       "Generating train split:   0%|          | 0/101762 [00:00<?, ? examples/s]"
      ]
     },
     "metadata": {},
     "output_type": "display_data"
    }
   ],
   "source": [
    "from datasets import load_dataset\n",
    "\n",
    "# Load SNLI dataset\n",
    "dataset = load_dataset(\"embedding-data/QQP_triplets\")"
   ]
  },
  {
   "cell_type": "code",
   "execution_count": 11,
   "metadata": {
    "execution": {
     "iopub.execute_input": "2024-12-03T08:37:00.897736Z",
     "iopub.status.busy": "2024-12-03T08:37:00.897071Z",
     "iopub.status.idle": "2024-12-03T08:37:00.902791Z",
     "shell.execute_reply": "2024-12-03T08:37:00.901864Z",
     "shell.execute_reply.started": "2024-12-03T08:37:00.897699Z"
    },
    "trusted": true
   },
   "outputs": [],
   "source": [
    "def prepare_data(dataset):\n",
    "    anchors = []\n",
    "    positives = []\n",
    "    negatives = []\n",
    "\n",
    "    sample_list = []\n",
    "\n",
    "    for sample in dataset['set']:\n",
    "        if len(sample['neg']) != 30: continue\n",
    "        if len(anchors) == 1000: break\n",
    "        anchors.append(sample['query'])\n",
    "        sample_list.append(sample['pos'] + sample['neg'])\n",
    "\n",
    "    # Tạo tf.data.Dataset\n",
    "    dataset = {\n",
    "        'anchor_sentences': anchors,\n",
    "        'sample_sentences': sample_list\n",
    "    }\n",
    "\n",
    "    return dataset"
   ]
  },
  {
   "cell_type": "code",
   "execution_count": 12,
   "metadata": {
    "execution": {
     "iopub.execute_input": "2024-12-03T08:37:04.977755Z",
     "iopub.status.busy": "2024-12-03T08:37:04.977061Z",
     "iopub.status.idle": "2024-12-03T08:37:05.060370Z",
     "shell.execute_reply": "2024-12-03T08:37:05.059428Z",
     "shell.execute_reply.started": "2024-12-03T08:37:04.977721Z"
    },
    "trusted": true
   },
   "outputs": [],
   "source": [
    "test_dataset = prepare_data(dataset['train'][70000: 72000])"
   ]
  },
  {
   "cell_type": "code",
   "execution_count": 13,
   "metadata": {
    "execution": {
     "iopub.execute_input": "2024-12-03T08:37:18.085777Z",
     "iopub.status.busy": "2024-12-03T08:37:18.085175Z",
     "iopub.status.idle": "2024-12-03T08:37:18.089876Z",
     "shell.execute_reply": "2024-12-03T08:37:18.088842Z",
     "shell.execute_reply.started": "2024-12-03T08:37:18.085744Z"
    },
    "trusted": true
   },
   "outputs": [],
   "source": [
    "queries = test_dataset['anchor_sentences']\n",
    "sample_sentences_list = test_dataset['sample_sentences']\n"
   ]
  },
  {
   "cell_type": "code",
   "execution_count": 14,
   "metadata": {
    "execution": {
     "iopub.execute_input": "2024-12-03T08:37:20.929494Z",
     "iopub.status.busy": "2024-12-03T08:37:20.929127Z",
     "iopub.status.idle": "2024-12-03T08:37:20.935453Z",
     "shell.execute_reply": "2024-12-03T08:37:20.934434Z",
     "shell.execute_reply.started": "2024-12-03T08:37:20.929461Z"
    },
    "trusted": true
   },
   "outputs": [],
   "source": [
    "def find_most_similar_for_SimCSE_Bert(query, dataset, model, tokenizer):\n",
    "    query_encoding = tokenizer(query, return_tensors=\"tf\", add_special_tokens=True, padding='max_length', truncation=True, max_length=256)\n",
    "    query_embedding = model(query_encoding[\"input_ids\"], training=False)[:,0,:]\n",
    "    dataset_embeddings = model(tokenizer(dataset, return_tensors=\"tf\", add_special_tokens=True, padding='max_length', truncation=True, max_length=256)[\"input_ids\"], training=False)[:,0,:]\n",
    "    similarities = tf.keras.losses.cosine_similarity(query_embedding, dataset_embeddings)\n",
    "    return tf.argmax(-similarities).numpy()\n"
   ]
  },
  {
   "cell_type": "code",
   "execution_count": 15,
   "metadata": {
    "execution": {
     "iopub.execute_input": "2024-12-03T08:37:22.891540Z",
     "iopub.status.busy": "2024-12-03T08:37:22.890756Z",
     "iopub.status.idle": "2024-12-03T08:37:22.895854Z",
     "shell.execute_reply": "2024-12-03T08:37:22.894923Z",
     "shell.execute_reply.started": "2024-12-03T08:37:22.891484Z"
    },
    "trusted": true
   },
   "outputs": [],
   "source": [
    "def find_most_similar_for_SentenceTransformer(query, dataset, model):\n",
    "    query_embedding = model.encode(query)\n",
    "    dataset_embeddings = model.encode(dataset)\n",
    "    similarities = tf.keras.losses.cosine_similarity(query_embedding, dataset_embeddings)\n",
    "    return tf.argmax(-similarities).numpy()\n"
   ]
  },
  {
   "cell_type": "code",
   "execution_count": 16,
   "metadata": {
    "execution": {
     "iopub.execute_input": "2024-12-03T08:37:25.388871Z",
     "iopub.status.busy": "2024-12-03T08:37:25.388065Z",
     "iopub.status.idle": "2024-12-03T08:39:39.676336Z",
     "shell.execute_reply": "2024-12-03T08:39:39.675428Z",
     "shell.execute_reply.started": "2024-12-03T08:37:25.388835Z"
    },
    "trusted": true
   },
   "outputs": [
    {
     "name": "stderr",
     "output_type": "stream",
     "text": [
      "/opt/conda/lib/python3.10/site-packages/keras/src/layers/layer.py:877: UserWarning: Layer 'query' (of type EinsumDense) was passed an input with a mask attached to it. However, this layer does not support masking and will therefore destroy the mask information. Downstream layers will not see the mask.\n",
      "  warnings.warn(\n",
      "/opt/conda/lib/python3.10/site-packages/keras/src/layers/layer.py:877: UserWarning: Layer 'key' (of type EinsumDense) was passed an input with a mask attached to it. However, this layer does not support masking and will therefore destroy the mask information. Downstream layers will not see the mask.\n",
      "  warnings.warn(\n",
      "/opt/conda/lib/python3.10/site-packages/keras/src/layers/layer.py:877: UserWarning: Layer 'value' (of type EinsumDense) was passed an input with a mask attached to it. However, this layer does not support masking and will therefore destroy the mask information. Downstream layers will not see the mask.\n",
      "  warnings.warn(\n",
      "/opt/conda/lib/python3.10/site-packages/keras/src/layers/layer.py:877: UserWarning: Layer 'self_attention' (of type SelfAttention) was passed an input with a mask attached to it. However, this layer does not support masking and will therefore destroy the mask information. Downstream layers will not see the mask.\n",
      "  warnings.warn(\n",
      "/opt/conda/lib/python3.10/site-packages/keras/src/layers/layer.py:877: UserWarning: Layer 'encoder_layer' (of type EncoderLayer) was passed an input with a mask attached to it. However, this layer does not support masking and will therefore destroy the mask information. Downstream layers will not see the mask.\n",
      "  warnings.warn(\n"
     ]
    },
    {
     "name": "stdout",
     "output_type": "stream",
     "text": [
      "SimCSE_Bert: correct: 823 sentences, percentage: 0.823\n"
     ]
    }
   ],
   "source": [
    "correct_count = 0\n",
    "for i in range(len(queries)):\n",
    "    most_similar = find_most_similar_for_SimCSE_Bert(queries[i], sample_sentences_list[i], min_bert_layer, tokenizer)\n",
    "    if most_similar == 0:\n",
    "        correct_count += 1\n",
    "print(f\"SimCSE_Bert: correct: {correct_count} sentences, percentage: {correct_count / len(queries)}\")"
   ]
  },
  {
   "cell_type": "code",
   "execution_count": null,
   "metadata": {},
   "outputs": [],
   "source": [
    "correct_count = 0\n",
    "for i in range(len(queries)):\n",
    "    most_similar = find_most_similar_for_SentenceTransformer(queries[i], sample_sentences_list[i], model)\n",
    "    if most_similar == 0:\n",
    "        correct_count += 1"
   ]
  },
  {
   "cell_type": "code",
   "execution_count": 18,
   "metadata": {
    "execution": {
     "iopub.execute_input": "2024-12-03T08:42:11.466396Z",
     "iopub.status.busy": "2024-12-03T08:42:11.466072Z",
     "iopub.status.idle": "2024-12-03T08:42:11.472090Z",
     "shell.execute_reply": "2024-12-03T08:42:11.471086Z",
     "shell.execute_reply.started": "2024-12-03T08:42:11.466356Z"
    },
    "trusted": true
   },
   "outputs": [
    {
     "name": "stdout",
     "output_type": "stream",
     "text": [
      "SentenceTransformer: correct: 944 sentences, percentage: 0.944\n"
     ]
    }
   ],
   "source": [
    "print(f\"SentenceTransformer: correct: {correct_count} sentences, percentage: {correct_count / len(queries)}\")"
   ]
  }
 ],
 "metadata": {
  "kaggle": {
   "accelerator": "gpu",
   "dataSources": [
    {
     "datasetId": 6127937,
     "sourceId": 10072331,
     "sourceType": "datasetVersion"
    }
   ],
   "isGpuEnabled": true,
   "isInternetEnabled": true,
   "language": "python",
   "sourceType": "notebook"
  },
  "kernelspec": {
   "display_name": "Python 3",
   "language": "python",
   "name": "python3"
  },
  "language_info": {
   "codemirror_mode": {
    "name": "ipython",
    "version": 3
   },
   "file_extension": ".py",
   "mimetype": "text/x-python",
   "name": "python",
   "nbconvert_exporter": "python",
   "pygments_lexer": "ipython3",
   "version": "3.10.14"
  }
 },
 "nbformat": 4,
 "nbformat_minor": 4
}
